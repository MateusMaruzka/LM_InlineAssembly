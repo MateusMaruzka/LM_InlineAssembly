{
  "nbformat": 4,
  "nbformat_minor": 0,
  "metadata": {
    "colab": {
      "provenance": [],
      "authorship_tag": "ABX9TyNjJvVwvHGj/yobcnj9oh8m",
      "include_colab_link": true
    },
    "kernelspec": {
      "name": "python3",
      "display_name": "Python 3"
    },
    "language_info": {
      "name": "python"
    }
  },
  "cells": [
    {
      "cell_type": "markdown",
      "metadata": {
        "id": "view-in-github",
        "colab_type": "text"
      },
      "source": [
        "<a href=\"https://colab.research.google.com/github/MateusMaruzka/LM_InlineAssembly/blob/main/calib_lowcostsensors_tensorflow.ipynb\" target=\"_parent\"><img src=\"https://colab.research.google.com/assets/colab-badge.svg\" alt=\"Open In Colab\"/></a>"
      ]
    },
    {
      "cell_type": "markdown",
      "source": [
        "Instalando as dependências:\n",
        "\n",
        "\n",
        "1.   Tensorflow Decision Forests\n",
        "\n"
      ],
      "metadata": {
        "id": "lIxy14lmM_zS"
      }
    },
    {
      "cell_type": "code",
      "source": [
        "!pip install tensorflow_decision_forests"
      ],
      "metadata": {
        "id": "qfITmNL-M5_d",
        "colab": {
          "base_uri": "https://localhost:8080/"
        },
        "outputId": "56e4b599-2f7d-4909-e1f8-06d79a03ad73"
      },
      "execution_count": 1,
      "outputs": [
        {
          "output_type": "stream",
          "name": "stdout",
          "text": [
            "Looking in indexes: https://pypi.org/simple, https://us-python.pkg.dev/colab-wheels/public/simple/\n",
            "Collecting tensorflow_decision_forests\n",
            "  Downloading tensorflow_decision_forests-1.1.0-cp37-cp37m-manylinux_2_17_x86_64.manylinux2014_x86_64.whl (16.2 MB)\n",
            "\u001b[K     |████████████████████████████████| 16.2 MB 10.4 MB/s \n",
            "\u001b[?25hRequirement already satisfied: absl-py in /usr/local/lib/python3.7/dist-packages (from tensorflow_decision_forests) (1.3.0)\n",
            "Requirement already satisfied: pandas in /usr/local/lib/python3.7/dist-packages (from tensorflow_decision_forests) (1.3.5)\n",
            "Collecting wurlitzer\n",
            "  Downloading wurlitzer-3.0.2-py3-none-any.whl (7.3 kB)\n",
            "Collecting tensorflow~=2.11.0\n",
            "  Downloading tensorflow-2.11.0-cp37-cp37m-manylinux_2_17_x86_64.manylinux2014_x86_64.whl (588.3 MB)\n",
            "\u001b[K     |████████████████████████████████| 588.3 MB 6.7 kB/s \n",
            "\u001b[?25hRequirement already satisfied: wheel in /usr/local/lib/python3.7/dist-packages (from tensorflow_decision_forests) (0.38.4)\n",
            "Requirement already satisfied: numpy in /usr/local/lib/python3.7/dist-packages (from tensorflow_decision_forests) (1.21.6)\n",
            "Requirement already satisfied: six in /usr/local/lib/python3.7/dist-packages (from tensorflow_decision_forests) (1.15.0)\n",
            "Requirement already satisfied: gast<=0.4.0,>=0.2.1 in /usr/local/lib/python3.7/dist-packages (from tensorflow~=2.11.0->tensorflow_decision_forests) (0.4.0)\n",
            "Requirement already satisfied: packaging in /usr/local/lib/python3.7/dist-packages (from tensorflow~=2.11.0->tensorflow_decision_forests) (21.3)\n",
            "Requirement already satisfied: protobuf<3.20,>=3.9.2 in /usr/local/lib/python3.7/dist-packages (from tensorflow~=2.11.0->tensorflow_decision_forests) (3.19.6)\n",
            "Requirement already satisfied: h5py>=2.9.0 in /usr/local/lib/python3.7/dist-packages (from tensorflow~=2.11.0->tensorflow_decision_forests) (3.1.0)\n",
            "Collecting tensorflow-estimator<2.12,>=2.11.0\n",
            "  Downloading tensorflow_estimator-2.11.0-py2.py3-none-any.whl (439 kB)\n",
            "\u001b[K     |████████████████████████████████| 439 kB 63.8 MB/s \n",
            "\u001b[?25hCollecting flatbuffers>=2.0\n",
            "  Downloading flatbuffers-22.11.23-py2.py3-none-any.whl (26 kB)\n",
            "Collecting keras<2.12,>=2.11.0\n",
            "  Downloading keras-2.11.0-py2.py3-none-any.whl (1.7 MB)\n",
            "\u001b[K     |████████████████████████████████| 1.7 MB 51.6 MB/s \n",
            "\u001b[?25hRequirement already satisfied: astunparse>=1.6.0 in /usr/local/lib/python3.7/dist-packages (from tensorflow~=2.11.0->tensorflow_decision_forests) (1.6.3)\n",
            "Requirement already satisfied: setuptools in /usr/local/lib/python3.7/dist-packages (from tensorflow~=2.11.0->tensorflow_decision_forests) (57.4.0)\n",
            "Requirement already satisfied: opt-einsum>=2.3.2 in /usr/local/lib/python3.7/dist-packages (from tensorflow~=2.11.0->tensorflow_decision_forests) (3.3.0)\n",
            "Requirement already satisfied: grpcio<2.0,>=1.24.3 in /usr/local/lib/python3.7/dist-packages (from tensorflow~=2.11.0->tensorflow_decision_forests) (1.50.0)\n",
            "Requirement already satisfied: typing-extensions>=3.6.6 in /usr/local/lib/python3.7/dist-packages (from tensorflow~=2.11.0->tensorflow_decision_forests) (4.1.1)\n",
            "Requirement already satisfied: google-pasta>=0.1.1 in /usr/local/lib/python3.7/dist-packages (from tensorflow~=2.11.0->tensorflow_decision_forests) (0.2.0)\n",
            "Requirement already satisfied: tensorflow-io-gcs-filesystem>=0.23.1 in /usr/local/lib/python3.7/dist-packages (from tensorflow~=2.11.0->tensorflow_decision_forests) (0.27.0)\n",
            "Collecting tensorboard<2.12,>=2.11\n",
            "  Downloading tensorboard-2.11.0-py3-none-any.whl (6.0 MB)\n",
            "\u001b[K     |████████████████████████████████| 6.0 MB 47.3 MB/s \n",
            "\u001b[?25hRequirement already satisfied: wrapt>=1.11.0 in /usr/local/lib/python3.7/dist-packages (from tensorflow~=2.11.0->tensorflow_decision_forests) (1.14.1)\n",
            "Requirement already satisfied: termcolor>=1.1.0 in /usr/local/lib/python3.7/dist-packages (from tensorflow~=2.11.0->tensorflow_decision_forests) (2.1.0)\n",
            "Requirement already satisfied: libclang>=13.0.0 in /usr/local/lib/python3.7/dist-packages (from tensorflow~=2.11.0->tensorflow_decision_forests) (14.0.6)\n",
            "Requirement already satisfied: cached-property in /usr/local/lib/python3.7/dist-packages (from h5py>=2.9.0->tensorflow~=2.11.0->tensorflow_decision_forests) (1.5.2)\n",
            "Requirement already satisfied: google-auth<3,>=1.6.3 in /usr/local/lib/python3.7/dist-packages (from tensorboard<2.12,>=2.11->tensorflow~=2.11.0->tensorflow_decision_forests) (2.14.1)\n",
            "Requirement already satisfied: markdown>=2.6.8 in /usr/local/lib/python3.7/dist-packages (from tensorboard<2.12,>=2.11->tensorflow~=2.11.0->tensorflow_decision_forests) (3.4.1)\n",
            "Requirement already satisfied: requests<3,>=2.21.0 in /usr/local/lib/python3.7/dist-packages (from tensorboard<2.12,>=2.11->tensorflow~=2.11.0->tensorflow_decision_forests) (2.23.0)\n",
            "Requirement already satisfied: tensorboard-plugin-wit>=1.6.0 in /usr/local/lib/python3.7/dist-packages (from tensorboard<2.12,>=2.11->tensorflow~=2.11.0->tensorflow_decision_forests) (1.8.1)\n",
            "Requirement already satisfied: tensorboard-data-server<0.7.0,>=0.6.0 in /usr/local/lib/python3.7/dist-packages (from tensorboard<2.12,>=2.11->tensorflow~=2.11.0->tensorflow_decision_forests) (0.6.1)\n",
            "Requirement already satisfied: google-auth-oauthlib<0.5,>=0.4.1 in /usr/local/lib/python3.7/dist-packages (from tensorboard<2.12,>=2.11->tensorflow~=2.11.0->tensorflow_decision_forests) (0.4.6)\n",
            "Requirement already satisfied: werkzeug>=1.0.1 in /usr/local/lib/python3.7/dist-packages (from tensorboard<2.12,>=2.11->tensorflow~=2.11.0->tensorflow_decision_forests) (1.0.1)\n",
            "Requirement already satisfied: rsa<5,>=3.1.4 in /usr/local/lib/python3.7/dist-packages (from google-auth<3,>=1.6.3->tensorboard<2.12,>=2.11->tensorflow~=2.11.0->tensorflow_decision_forests) (4.9)\n",
            "Requirement already satisfied: cachetools<6.0,>=2.0.0 in /usr/local/lib/python3.7/dist-packages (from google-auth<3,>=1.6.3->tensorboard<2.12,>=2.11->tensorflow~=2.11.0->tensorflow_decision_forests) (5.2.0)\n",
            "Requirement already satisfied: pyasn1-modules>=0.2.1 in /usr/local/lib/python3.7/dist-packages (from google-auth<3,>=1.6.3->tensorboard<2.12,>=2.11->tensorflow~=2.11.0->tensorflow_decision_forests) (0.2.8)\n",
            "Requirement already satisfied: requests-oauthlib>=0.7.0 in /usr/local/lib/python3.7/dist-packages (from google-auth-oauthlib<0.5,>=0.4.1->tensorboard<2.12,>=2.11->tensorflow~=2.11.0->tensorflow_decision_forests) (1.3.1)\n",
            "Requirement already satisfied: importlib-metadata>=4.4 in /usr/local/lib/python3.7/dist-packages (from markdown>=2.6.8->tensorboard<2.12,>=2.11->tensorflow~=2.11.0->tensorflow_decision_forests) (4.13.0)\n",
            "Requirement already satisfied: zipp>=0.5 in /usr/local/lib/python3.7/dist-packages (from importlib-metadata>=4.4->markdown>=2.6.8->tensorboard<2.12,>=2.11->tensorflow~=2.11.0->tensorflow_decision_forests) (3.10.0)\n",
            "Requirement already satisfied: pyasn1<0.5.0,>=0.4.6 in /usr/local/lib/python3.7/dist-packages (from pyasn1-modules>=0.2.1->google-auth<3,>=1.6.3->tensorboard<2.12,>=2.11->tensorflow~=2.11.0->tensorflow_decision_forests) (0.4.8)\n",
            "Requirement already satisfied: idna<3,>=2.5 in /usr/local/lib/python3.7/dist-packages (from requests<3,>=2.21.0->tensorboard<2.12,>=2.11->tensorflow~=2.11.0->tensorflow_decision_forests) (2.10)\n",
            "Requirement already satisfied: urllib3!=1.25.0,!=1.25.1,<1.26,>=1.21.1 in /usr/local/lib/python3.7/dist-packages (from requests<3,>=2.21.0->tensorboard<2.12,>=2.11->tensorflow~=2.11.0->tensorflow_decision_forests) (1.24.3)\n",
            "Requirement already satisfied: chardet<4,>=3.0.2 in /usr/local/lib/python3.7/dist-packages (from requests<3,>=2.21.0->tensorboard<2.12,>=2.11->tensorflow~=2.11.0->tensorflow_decision_forests) (3.0.4)\n",
            "Requirement already satisfied: certifi>=2017.4.17 in /usr/local/lib/python3.7/dist-packages (from requests<3,>=2.21.0->tensorboard<2.12,>=2.11->tensorflow~=2.11.0->tensorflow_decision_forests) (2022.9.24)\n",
            "Requirement already satisfied: oauthlib>=3.0.0 in /usr/local/lib/python3.7/dist-packages (from requests-oauthlib>=0.7.0->google-auth-oauthlib<0.5,>=0.4.1->tensorboard<2.12,>=2.11->tensorflow~=2.11.0->tensorflow_decision_forests) (3.2.2)\n",
            "Requirement already satisfied: pyparsing!=3.0.5,>=2.0.2 in /usr/local/lib/python3.7/dist-packages (from packaging->tensorflow~=2.11.0->tensorflow_decision_forests) (3.0.9)\n",
            "Requirement already satisfied: pytz>=2017.3 in /usr/local/lib/python3.7/dist-packages (from pandas->tensorflow_decision_forests) (2022.6)\n",
            "Requirement already satisfied: python-dateutil>=2.7.3 in /usr/local/lib/python3.7/dist-packages (from pandas->tensorflow_decision_forests) (2.8.2)\n",
            "Installing collected packages: tensorflow-estimator, tensorboard, keras, flatbuffers, wurlitzer, tensorflow, tensorflow-decision-forests\n",
            "  Attempting uninstall: tensorflow-estimator\n",
            "    Found existing installation: tensorflow-estimator 2.9.0\n",
            "    Uninstalling tensorflow-estimator-2.9.0:\n",
            "      Successfully uninstalled tensorflow-estimator-2.9.0\n",
            "  Attempting uninstall: tensorboard\n",
            "    Found existing installation: tensorboard 2.9.1\n",
            "    Uninstalling tensorboard-2.9.1:\n",
            "      Successfully uninstalled tensorboard-2.9.1\n",
            "  Attempting uninstall: keras\n",
            "    Found existing installation: keras 2.9.0\n",
            "    Uninstalling keras-2.9.0:\n",
            "      Successfully uninstalled keras-2.9.0\n",
            "  Attempting uninstall: flatbuffers\n",
            "    Found existing installation: flatbuffers 1.12\n",
            "    Uninstalling flatbuffers-1.12:\n",
            "      Successfully uninstalled flatbuffers-1.12\n",
            "  Attempting uninstall: tensorflow\n",
            "    Found existing installation: tensorflow 2.9.2\n",
            "    Uninstalling tensorflow-2.9.2:\n",
            "      Successfully uninstalled tensorflow-2.9.2\n",
            "Successfully installed flatbuffers-22.11.23 keras-2.11.0 tensorboard-2.11.0 tensorflow-2.11.0 tensorflow-decision-forests-1.1.0 tensorflow-estimator-2.11.0 wurlitzer-3.0.2\n"
          ]
        }
      ]
    },
    {
      "cell_type": "code",
      "execution_count": 27,
      "metadata": {
        "id": "hxWMuqpuMUor"
      },
      "outputs": [],
      "source": [
        "import tensorflow as tf\n",
        "import tensorflow_decision_forests as tfdf\n",
        "import pandas as pd\n",
        "import numpy as np\n",
        "import matplotlib.pyplot as plt\n",
        "import seaborn as sns\n",
        "from sklearn.model_selection import train_test_split, GridSearchCV, \\\n",
        "                                    validation_curve, cross_val_score, \\\n",
        "                                    cross_validate, \\\n",
        "                                    RepeatedKFold\n"
      ]
    },
    {
      "cell_type": "code",
      "source": [
        "df = pd.read_csv('sample_data/dataset.csv')\n",
        "df.set_index('Date/Time', inplace = True)\n",
        "df.dropna(inplace=True)"
      ],
      "metadata": {
        "id": "mvovnxtLORLt"
      },
      "execution_count": null,
      "outputs": []
    },
    {
      "cell_type": "markdown",
      "source": [
        "### Tukey's rule for outliers (IQR rule)\n",
        "\n",
        "1. IQR =  Q3 - Q1\n",
        "2. upper limit = Q3 + 1.5*IQR\n",
        "3. lower limit = Q1 - 1.5*IQR"
      ],
      "metadata": {
        "id": "YvuQuFO11uyW"
      }
    },
    {
      "cell_type": "code",
      "source": [
        "l = 'temperatura_envcity'\n",
        "def boxplot_histplot(data):\n",
        "  fig, ax = plt.subplots(1, 2, figsize = (11,5))\n",
        "  sns.boxplot(y = data, ax = ax[0])\n",
        "  sns.histplot(data, ax = ax[1], bins = 15)\n",
        "  plt.show()\n",
        "\n",
        "boxplot_histplot(df[l])\n",
        "df[l].describe()"
      ],
      "metadata": {
        "colab": {
          "base_uri": "https://localhost:8080/",
          "height": 491
        },
        "id": "ZndC53mf0gab",
        "outputId": "c1795372-25fc-420a-ef37-bbf422127af4"
      },
      "execution_count": 96,
      "outputs": [
        {
          "output_type": "display_data",
          "data": {
            "text/plain": [
              "<Figure size 792x360 with 2 Axes>"
            ],
            "image/png": "[encoded data removed]"
          },
          "metadata": {
            "needs_background": "light"
          }
        },
        {
          "output_type": "execute_result",
          "data": {
            "text/plain": [
              "count      781.000000\n",
              "mean        79.916641\n",
              "std       1230.193020\n",
              "min         11.959094\n",
              "25%         16.000000\n",
              "50%         18.722474\n",
              "75%         19.834418\n",
              "max      27375.000000\n",
              "Name: temperatura_envcity, dtype: float64"
            ]
          },
          "metadata": {},
          "execution_count": 96
        }
      ]
    },
    {
      "cell_type": "code",
      "source": [
        "Q1 = df[l].quantile(0.25)\n",
        "Q3 = df[l].quantile(0.75)\n",
        "IQR = Q3 - Q1\n",
        "lower_lim = Q1 - 1.5*IQR\n",
        "upper_lim = Q3 + 1.5*IQR\n",
        "print(f'First quantile = {Q1}')\n",
        "print(f'Third quantile = {Q3}')\n",
        "print(f'IQR = {IQR}')\n",
        "print(f'Lower limit = {lower_lim}')\n",
        "print(f'upper limit = {upper_lim}')"
      ],
      "metadata": {
        "colab": {
          "base_uri": "https://localhost:8080/"
        },
        "id": "3I5AfWn22w2G",
        "outputId": "14dabcba-43e6-4a40-e007-7b27cfddc1ed"
      },
      "execution_count": 97,
      "outputs": [
        {
          "output_type": "stream",
          "name": "stdout",
          "text": [
            "First quantile = 16.0\n",
            "Third quantile = 19.834417932031812\n",
            "IQR = 3.834417932031812\n",
            "Lower limit = 10.248373101952282\n",
            "upper limit = 25.58604483007953\n"
          ]
        }
      ]
    },
    {
      "cell_type": "code",
      "source": [
        "outliers = (df[l] < lower_lim) | (df[l] > upper_lim)\n",
        "print(len(df[l][outliers]))\n",
        "print(f'Outliers -> {len(df[l][outliers])*100 / len(df[l])} %')"
      ],
      "metadata": {
        "colab": {
          "base_uri": "https://localhost:8080/"
        },
        "id": "MR3dnMip3fB7",
        "outputId": "0fdd9629-a2ba-4556-91a2-562f6af57ada"
      },
      "execution_count": 98,
      "outputs": [
        {
          "output_type": "stream",
          "name": "stdout",
          "text": [
            "17\n",
            "Outliers -> 2.176696542893726 %\n"
          ]
        }
      ]
    },
    {
      "cell_type": "code",
      "source": [
        "#  Dropping outliers\n",
        "boxplot_histplot(df[l][~outliers])"
      ],
      "metadata": {
        "colab": {
          "base_uri": "https://localhost:8080/",
          "height": 335
        },
        "id": "mNRGHtvH5pzo",
        "outputId": "ef19c1da-77bc-428a-eb49-86396e6c561d"
      },
      "execution_count": 99,
      "outputs": [
        {
          "output_type": "display_data",
          "data": {
            "text/plain": [
              "<Figure size 792x360 with 2 Axes>"
            ],
            "image/png": "[encoded data removed]"
          },
          "metadata": {
            "needs_background": "light"
          }
        }
      ]
    },
    {
      "cell_type": "code",
      "source": [
        "# Modifying outliers by winsorize method\n",
        "from scipy.stats.mstats import winsorize\n",
        "\n",
        "df_winsorize = winsorize(df[l], (0.01, 0.02))\n",
        "boxplot_histplot(df_winsorize)"
      ],
      "metadata": {
        "colab": {
          "base_uri": "https://localhost:8080/",
          "height": 320
        },
        "id": "vw3zPiUDBAPG",
        "outputId": "4edc7f9b-5aa3-4ce4-b1de-7a457f753861"
      },
      "execution_count": 93,
      "outputs": [
        {
          "output_type": "display_data",
          "data": {
            "text/plain": [
              "<Figure size 792x360 with 2 Axes>"
            ],
            "image/png": "[encoded data removed]"
          },
          "metadata": {
            "needs_background": "light"
          }
        }
      ]
    },
    {
      "cell_type": "code",
      "source": [
        "# Log transformation: reduces the skewness of data and tries to make it normal\n",
        "\n",
        "df_log = np.log(df[l])\n",
        "boxplot_histplot(df_log)"
      ],
      "metadata": {
        "colab": {
          "base_uri": "https://localhost:8080/",
          "height": 335
        },
        "id": "fYrZORBID0Hp",
        "outputId": "20567ed7-8a63-49a0-dcfc-3aa5b4d85f22"
      },
      "execution_count": 100,
      "outputs": [
        {
          "output_type": "display_data",
          "data": {
            "text/plain": [
              "<Figure size 792x360 with 2 Axes>"
            ],
            "image/png": "[encoded data removed]"
          },
          "metadata": {
            "needs_background": "light"
          }
        }
      ]
    },
    {
      "cell_type": "code",
      "source": [
        "# Split the dataset into a training and a testing dataset.\n",
        "\n",
        "def split_dataset(dataset, test_ratio=0.30):\n",
        "  \"\"\"Splits a panda dataframe in two.\"\"\"\n",
        "  test_indices = np.random.rand(len(dataset)) < test_ratio\n",
        "  return dataset[~test_indices], dataset[test_indices]\n"
      ],
      "metadata": {
        "id": "6wY0hZ8jEC6n"
      },
      "execution_count": 5,
      "outputs": []
    },
    {
      "cell_type": "code",
      "source": [
        "label = 'co_iat'\n",
        "label_envcity = 'co_envcity'\n",
        "Yco = df[label]\n",
        "Xco = df.loc[Yco.index][[label,'temperatura_envcity','umidade_envcity', label_envcity]]\n",
        "\n",
        "train_ds_pd, test_ds_pd = split_dataset(Xco)\n",
        "print(\"{} examples in training, {} examples for testing.\".format(len(train_ds_pd), len(test_ds_pd)))\n",
        "\n",
        "train_ds = tfdf.keras.pd_dataframe_to_tf_dataset(train_ds_pd, label=label, task=tfdf.keras.Task.REGRESSION)\n",
        "test_ds = tfdf.keras.pd_dataframe_to_tf_dataset(test_ds_pd, label=label, task=tfdf.keras.Task.REGRESSION)\n"
      ],
      "metadata": {
        "id": "6_ORlAnSO8zK",
        "colab": {
          "base_uri": "https://localhost:8080/"
        },
        "outputId": "01dd21d9-2916-436b-c198-a26f8814c0fc"
      },
      "execution_count": 6,
      "outputs": [
        {
          "output_type": "stream",
          "name": "stdout",
          "text": [
            "534 examples in training, 247 examples for testing.\n"
          ]
        }
      ]
    },
    {
      "cell_type": "code",
      "source": [
        "# Train a Random Forest model.\n",
        "model = tfdf.keras.RandomForestModel(task=tfdf.keras.Task.REGRESSION, verbose=0)\n",
        "# model.fit(x=X_train, y=y_train)\n",
        "model.fit(train_ds)"
      ],
      "metadata": {
        "colab": {
          "base_uri": "https://localhost:8080/"
        },
        "id": "fzjg-TX8TXRS",
        "outputId": "564f031d-c364-48fd-888e-d26fea11c134"
      },
      "execution_count": 7,
      "outputs": [
        {
          "output_type": "stream",
          "name": "stderr",
          "text": [
            "WARNING:tensorflow:From /usr/local/lib/python3.7/dist-packages/tensorflow/python/autograph/pyct/static_analysis/liveness.py:83: Analyzer.lamba_check (from tensorflow.python.autograph.pyct.static_analysis.liveness) is deprecated and will be removed after 2023-09-23.\n",
            "Instructions for updating:\n",
            "Lambda fuctions will be no more assumed to be used in the statement where they are used, or at least in the same block. https://github.com/tensorflow/tensorflow/issues/56089\n",
            "WARNING:tensorflow:AutoGraph could not transform <function simple_ml_inference_op_with_handle at 0x7f4c854e3200> and will run it as-is.\n",
            "Please report this to the TensorFlow team. When filing the bug, set the verbosity to 10 (on Linux, `export AUTOGRAPH_VERBOSITY=10`) and attach the full output.\n",
            "Cause: could not get source code\n",
            "To silence this warning, decorate the function with @tf.autograph.experimental.do_not_convert\n"
          ]
        },
        {
          "output_type": "stream",
          "name": "stdout",
          "text": [
            "WARNING: AutoGraph could not transform <function simple_ml_inference_op_with_handle at 0x7f4c854e3200> and will run it as-is.\n",
            "Please report this to the TensorFlow team. When filing the bug, set the verbosity to 10 (on Linux, `export AUTOGRAPH_VERBOSITY=10`) and attach the full output.\n",
            "Cause: could not get source code\n",
            "To silence this warning, decorate the function with @tf.autograph.experimental.do_not_convert\n"
          ]
        },
        {
          "output_type": "execute_result",
          "data": {
            "text/plain": [
              "<keras.callbacks.History at 0x7f4c77fe4490>"
            ]
          },
          "metadata": {},
          "execution_count": 7
        }
      ]
    },
    {
      "cell_type": "code",
      "source": [
        "# Summary of the model structure.\n",
        "model.summary()"
      ],
      "metadata": {
        "colab": {
          "base_uri": "https://localhost:8080/"
        },
        "id": "VJn15bRmT6zl",
        "outputId": "f9f8083c-6f99-42f4-cd77-d8787ee07ec3"
      },
      "execution_count": 8,
      "outputs": [
        {
          "output_type": "stream",
          "name": "stdout",
          "text": [
            "Model: \"random_forest_model\"\n",
            "_________________________________________________________________\n",
            " Layer (type)                Output Shape              Param #   \n",
            "=================================================================\n",
            "=================================================================\n",
            "Total params: 1\n",
            "Trainable params: 0\n",
            "Non-trainable params: 1\n",
            "_________________________________________________________________\n",
            "Type: \"RANDOM_FOREST\"\n",
            "Task: REGRESSION\n",
            "Label: \"__LABEL\"\n",
            "\n",
            "Input Features (3):\n",
            "\tco_envcity\n",
            "\ttemperatura_envcity\n",
            "\tumidade_envcity\n",
            "\n",
            "No weights\n",
            "\n",
            "Variable Importance: MEAN_MIN_DEPTH:\n",
            "    1.             \"__LABEL\"  8.604654 ################\n",
            "    2.     \"umidade_envcity\"  2.238372 ###\n",
            "    3. \"temperatura_envcity\"  1.883248 ##\n",
            "    4.          \"co_envcity\"  0.645734 \n",
            "\n",
            "Variable Importance: NUM_AS_ROOT:\n",
            "    1.          \"co_envcity\" 187.000000 ################\n",
            "    2.     \"umidade_envcity\" 86.000000 #####\n",
            "    3. \"temperatura_envcity\" 27.000000 \n",
            "\n",
            "Variable Importance: NUM_NODES:\n",
            "    1. \"temperatura_envcity\" 7781.000000 ################\n",
            "    2.          \"co_envcity\" 7727.000000 #########\n",
            "    3.     \"umidade_envcity\" 7647.000000 \n",
            "\n",
            "Variable Importance: SUM_SCORE:\n",
            "    1.          \"co_envcity\" 968907692.073139 ################\n",
            "    2. \"temperatura_envcity\" 779701720.293478 #######\n",
            "    3.     \"umidade_envcity\" 628278512.524413 \n",
            "\n",
            "\n",
            "\n",
            "Out-of-bag evaluation: rmse:119.851\n",
            "Number of trees: 300\n",
            "Total number of nodes: 46610\n",
            "\n",
            "Number of nodes by tree:\n",
            "Count: 300 Average: 155.367 StdDev: 9.62283\n",
            "Min: 101 Max: 173 Ignored: 0\n",
            "----------------------------------------------\n",
            "[ 101, 104)  1   0.33%   0.33%\n",
            "[ 104, 108)  0   0.00%   0.33%\n",
            "[ 108, 111)  0   0.00%   0.33%\n",
            "[ 111, 115)  1   0.33%   0.67%\n",
            "[ 115, 119)  1   0.33%   1.00%\n",
            "[ 119, 122)  1   0.33%   1.33%\n",
            "[ 122, 126)  2   0.67%   2.00%\n",
            "[ 126, 130)  3   1.00%   3.00%\n",
            "[ 130, 133)  2   0.67%   3.67%\n",
            "[ 133, 137)  3   1.00%   4.67%\n",
            "[ 137, 141)  6   2.00%   6.67% #\n",
            "[ 141, 144) 14   4.67%  11.33% ##\n",
            "[ 144, 148)  8   2.67%  14.00% #\n",
            "[ 148, 152) 27   9.00%  23.00% ###\n",
            "[ 152, 155) 20   6.67%  29.67% ##\n",
            "[ 155, 159) 74  24.67%  54.33% #########\n",
            "[ 159, 163) 81  27.00%  81.33% ##########\n",
            "[ 163, 166) 36  12.00%  93.33% ####\n",
            "[ 166, 170) 18   6.00%  99.33% ##\n",
            "[ 170, 173]  2   0.67% 100.00%\n",
            "\n",
            "Depth by leafs:\n",
            "Count: 23455 Average: 8.5991 StdDev: 3.06194\n",
            "Min: 2 Max: 15 Ignored: 0\n",
            "----------------------------------------------\n",
            "[  2,  3)   57   0.24%   0.24%\n",
            "[  3,  4)  421   1.79%   2.04% #\n",
            "[  4,  5) 1256   5.35%   7.39% ####\n",
            "[  5,  6) 2174   9.27%  16.66% #######\n",
            "[  6,  7) 2910  12.41%  29.07% ##########\n",
            "[  7,  8) 2886  12.30%  41.37% ##########\n",
            "[  8,  9) 2635  11.23%  52.61% #########\n",
            "[  9, 10) 2398  10.22%  62.83% ########\n",
            "[ 10, 11) 2206   9.41%  72.24% ########\n",
            "[ 11, 12) 1889   8.05%  80.29% ######\n",
            "[ 12, 13) 1594   6.80%  87.09% #####\n",
            "[ 13, 14) 1186   5.06%  92.14% ####\n",
            "[ 14, 15)  933   3.98%  96.12% ###\n",
            "[ 15, 15]  910   3.88% 100.00% ###\n",
            "\n",
            "Number of training obs by leaf:\n",
            "Count: 23455 Average: 6.8301 StdDev: 3.17118\n",
            "Min: 5 Max: 95 Ignored: 0\n",
            "----------------------------------------------\n",
            "[  5,  9) 19945  85.04%  85.04% ##########\n",
            "[  9, 14)  2870  12.24%  97.27% #\n",
            "[ 14, 18)   268   1.14%  98.41%\n",
            "[ 18, 23)   198   0.84%  99.26%\n",
            "[ 23, 27)    72   0.31%  99.57%\n",
            "[ 27, 32)    51   0.22%  99.78%\n",
            "[ 32, 36)    21   0.09%  99.87%\n",
            "[ 36, 41)     8   0.03%  99.91%\n",
            "[ 41, 45)     4   0.02%  99.92%\n",
            "[ 45, 50)     5   0.02%  99.94%\n",
            "[ 50, 55)     6   0.03%  99.97%\n",
            "[ 55, 59)     1   0.00%  99.97%\n",
            "[ 59, 64)     2   0.01%  99.98%\n",
            "[ 64, 68)     1   0.00%  99.99%\n",
            "[ 68, 73)     0   0.00%  99.99%\n",
            "[ 73, 77)     0   0.00%  99.99%\n",
            "[ 77, 82)     2   0.01% 100.00%\n",
            "[ 82, 86)     0   0.00% 100.00%\n",
            "[ 86, 91)     0   0.00% 100.00%\n",
            "[ 91, 95]     1   0.00% 100.00%\n",
            "\n",
            "Attribute in nodes:\n",
            "\t7781 : temperatura_envcity [NUMERICAL]\n",
            "\t7727 : co_envcity [NUMERICAL]\n",
            "\t7647 : umidade_envcity [NUMERICAL]\n",
            "\n",
            "Attribute in nodes with depth <= 0:\n",
            "\t187 : co_envcity [NUMERICAL]\n",
            "\t86 : umidade_envcity [NUMERICAL]\n",
            "\t27 : temperatura_envcity [NUMERICAL]\n",
            "\n",
            "Attribute in nodes with depth <= 1:\n",
            "\t377 : co_envcity [NUMERICAL]\n",
            "\t319 : temperatura_envcity [NUMERICAL]\n",
            "\t204 : umidade_envcity [NUMERICAL]\n",
            "\n",
            "Attribute in nodes with depth <= 2:\n",
            "\t793 : co_envcity [NUMERICAL]\n",
            "\t760 : temperatura_envcity [NUMERICAL]\n",
            "\t490 : umidade_envcity [NUMERICAL]\n",
            "\n",
            "Attribute in nodes with depth <= 3:\n",
            "\t1407 : co_envcity [NUMERICAL]\n",
            "\t1386 : temperatura_envcity [NUMERICAL]\n",
            "\t1115 : umidade_envcity [NUMERICAL]\n",
            "\n",
            "Attribute in nodes with depth <= 5:\n",
            "\t3162 : co_envcity [NUMERICAL]\n",
            "\t3114 : temperatura_envcity [NUMERICAL]\n",
            "\t2880 : umidade_envcity [NUMERICAL]\n",
            "\n",
            "Condition type in nodes:\n",
            "\t23155 : HigherCondition\n",
            "Condition type in nodes with depth <= 0:\n",
            "\t300 : HigherCondition\n",
            "Condition type in nodes with depth <= 1:\n",
            "\t900 : HigherCondition\n",
            "Condition type in nodes with depth <= 2:\n",
            "\t2043 : HigherCondition\n",
            "Condition type in nodes with depth <= 3:\n",
            "\t3908 : HigherCondition\n",
            "Condition type in nodes with depth <= 5:\n",
            "\t9156 : HigherCondition\n",
            "Node format: NOT_SET\n",
            "\n",
            "Training OOB:\n",
            "\ttrees: 1, Out-of-bag evaluation: rmse:154.481\n",
            "\ttrees: 11, Out-of-bag evaluation: rmse:128.216\n",
            "\ttrees: 21, Out-of-bag evaluation: rmse:124.786\n",
            "\ttrees: 31, Out-of-bag evaluation: rmse:123.087\n",
            "\ttrees: 41, Out-of-bag evaluation: rmse:121.932\n",
            "\ttrees: 51, Out-of-bag evaluation: rmse:121.77\n",
            "\ttrees: 61, Out-of-bag evaluation: rmse:120.926\n",
            "\ttrees: 71, Out-of-bag evaluation: rmse:120.84\n",
            "\ttrees: 81, Out-of-bag evaluation: rmse:120.873\n",
            "\ttrees: 91, Out-of-bag evaluation: rmse:120.49\n",
            "\ttrees: 101, Out-of-bag evaluation: rmse:120.482\n",
            "\ttrees: 111, Out-of-bag evaluation: rmse:120.495\n",
            "\ttrees: 121, Out-of-bag evaluation: rmse:120.545\n",
            "\ttrees: 131, Out-of-bag evaluation: rmse:120.521\n",
            "\ttrees: 141, Out-of-bag evaluation: rmse:120.28\n",
            "\ttrees: 151, Out-of-bag evaluation: rmse:120.207\n",
            "\ttrees: 161, Out-of-bag evaluation: rmse:120.002\n",
            "\ttrees: 171, Out-of-bag evaluation: rmse:120.066\n",
            "\ttrees: 181, Out-of-bag evaluation: rmse:119.987\n",
            "\ttrees: 191, Out-of-bag evaluation: rmse:119.928\n",
            "\ttrees: 201, Out-of-bag evaluation: rmse:120.053\n",
            "\ttrees: 211, Out-of-bag evaluation: rmse:120.021\n",
            "\ttrees: 221, Out-of-bag evaluation: rmse:120.005\n",
            "\ttrees: 231, Out-of-bag evaluation: rmse:120.004\n",
            "\ttrees: 241, Out-of-bag evaluation: rmse:120.083\n",
            "\ttrees: 251, Out-of-bag evaluation: rmse:120.033\n",
            "\ttrees: 261, Out-of-bag evaluation: rmse:120.041\n",
            "\ttrees: 271, Out-of-bag evaluation: rmse:119.999\n",
            "\ttrees: 281, Out-of-bag evaluation: rmse:119.959\n",
            "\ttrees: 291, Out-of-bag evaluation: rmse:119.825\n",
            "\ttrees: 300, Out-of-bag evaluation: rmse:119.851\n",
            "\n"
          ]
        }
      ]
    },
    {
      "cell_type": "code",
      "source": [
        "# Evaluate the model.\n",
        "model.compile(metrics=[\"accuracy\"])\n",
        "evaluation = model.evaluate(test_ds, return_dict=True)\n",
        "print()\n",
        "\n",
        "for name, value in evaluation.items():\n",
        "  print(f\"{name}: {value:.4f}\")\n",
        "\n",
        "# Export the model to a SavedModel.\n",
        "# model.save(\"project/model\")"
      ],
      "metadata": {
        "colab": {
          "base_uri": "https://localhost:8080/"
        },
        "id": "jD4GtfRXT8iw",
        "outputId": "50de55c0-e595-4793-fcdc-5dd7d4ca6188"
      },
      "execution_count": 9,
      "outputs": [
        {
          "output_type": "stream",
          "name": "stdout",
          "text": [
            "1/1 [==============================] - 1s 576ms/step - loss: 0.0000e+00 - accuracy: 0.0000e+00\n",
            "\n",
            "loss: 0.0000\n",
            "accuracy: 0.0000\n"
          ]
        }
      ]
    },
    {
      "cell_type": "code",
      "source": [
        "tfdf.model_plotter.plot_model_in_colab(model, tree_idx=0)"
      ],
      "metadata": {
        "colab": {
          "base_uri": "https://localhost:8080/",
          "height": 404
        },
        "id": "p3qGVkLtRwX5",
        "outputId": "6ddad8c9-11b4-44df-f43e-b339ee883bce"
      },
      "execution_count": 10,
      "outputs": [
        {
          "output_type": "execute_result",
          "data": {
            "text/plain": [
              "<IPython.core.display.HTML object>"
            ],
            "text/html": [
              "\n",
              "<script src=\"https://d3js.org/d3.v6.min.js\"></script>\n",
              "<div id=\"tree_plot_ac626a272aff4af781336df3252e0837\"></div>\n",
              "<script>\n",
              "/*\n",
              " * Copyright 2021 Google LLC.\n",
              " * Licensed under the Apache License, Version 2.0 (the \"License\");\n",
              " * you may not use this file except in compliance with the License.\n",
              " * You may obtain a copy of the License at\n",
              " *\n",
              " *     https://www.apache.org/licenses/LICENSE-2.0\n",
              " *\n",
              " * Unless required by applicable law or agreed to in writing, software\n",
              " * distributed under the License is distributed on an \"AS IS\" BASIS,\n",
              " * WITHOUT WARRANTIES OR CONDITIONS OF ANY KIND, either express or implied.\n",
              " * See the License for the specific language governing permissions and\n",
              " * limitations under the License.\n",
              " */\n",
              "\n",
              "/**\n",
              " *  Plotting of decision trees generated by TF-DF.\n",
              " *\n",
              " *  A tree is a recursive structure of node objects.\n",
              " *  A node contains one or more of the following components:\n",
              " *\n",
              " *    - A value: Representing the output of the node. If the node is not a leaf,\n",
              " *      the value is only present for analysis i.e. it is not used for\n",
              " *      predictions.\n",
              " *\n",
              " *    - A condition : For non-leaf nodes, the condition (also known as split)\n",
              " *      defines a binary test to branch to the positive or negative child.\n",
              " *\n",
              " *    - An explanation: Generally a plot showing the relation between the label\n",
              " *      and the condition to give insights about the effect of the condition.\n",
              " *\n",
              " *    - Two children : For non-leaf nodes, the children nodes. The first\n",
              " *      children (i.e. \"node.children[0]\") is the negative children (drawn in\n",
              " *      red). The second children is the positive one (drawn in green).\n",
              " *\n",
              " */\n",
              "\n",
              "/**\n",
              " * Plots a single decision tree into a DOM element.\n",
              " * @param {!options} options Dictionary of configurations.\n",
              " * @param {!tree} raw_tree Recursive tree structure.\n",
              " * @param {string} canvas_id Id of the output dom element.\n",
              " */\n",
              "function display_tree(options, raw_tree, canvas_id) {\n",
              "  console.log(options);\n",
              "\n",
              "  // Determine the node placement.\n",
              "  const tree_struct = d3.tree().nodeSize(\n",
              "      [options.node_y_offset, options.node_x_offset])(d3.hierarchy(raw_tree));\n",
              "\n",
              "  // Boundaries of the node placement.\n",
              "  let x_min = Infinity;\n",
              "  let x_max = -x_min;\n",
              "  let y_min = Infinity;\n",
              "  let y_max = -x_min;\n",
              "\n",
              "  tree_struct.each(d => {\n",
              "    if (d.x > x_max) x_max = d.x;\n",
              "    if (d.x < x_min) x_min = d.x;\n",
              "    if (d.y > y_max) y_max = d.y;\n",
              "    if (d.y < y_min) y_min = d.y;\n",
              "  });\n",
              "\n",
              "  // Size of the plot.\n",
              "  const width = y_max - y_min + options.node_x_size + options.margin * 2;\n",
              "  const height = x_max - x_min + options.node_y_size + options.margin * 2 +\n",
              "      options.node_y_offset - options.node_y_size;\n",
              "\n",
              "  const plot = d3.select(canvas_id);\n",
              "\n",
              "  // Tool tip\n",
              "  options.tooltip = plot.append('div')\n",
              "                        .attr('width', 100)\n",
              "                        .attr('height', 100)\n",
              "                        .style('padding', '4px')\n",
              "                        .style('background', '#fff')\n",
              "                        .style('box-shadow', '4px 4px 0px rgba(0,0,0,0.1)')\n",
              "                        .style('border', '1px solid black')\n",
              "                        .style('font-family', 'sans-serif')\n",
              "                        .style('font-size', options.font_size)\n",
              "                        .style('position', 'absolute')\n",
              "                        .style('z-index', '10')\n",
              "                        .attr('pointer-events', 'none')\n",
              "                        .style('display', 'none');\n",
              "\n",
              "  // Create canvas\n",
              "  const svg = plot.append('svg').attr('width', width).attr('height', height);\n",
              "  const graph =\n",
              "      svg.style('overflow', 'visible')\n",
              "          .append('g')\n",
              "          .attr('font-family', 'sans-serif')\n",
              "          .attr('font-size', options.font_size)\n",
              "          .attr(\n",
              "              'transform',\n",
              "              () => `translate(${options.margin},${\n",
              "                  - x_min + options.node_y_offset / 2 + options.margin})`);\n",
              "\n",
              "  // Plot bounding box.\n",
              "  if (options.show_plot_bounding_box) {\n",
              "    svg.append('rect')\n",
              "        .attr('width', width)\n",
              "        .attr('height', height)\n",
              "        .attr('fill', 'none')\n",
              "        .attr('stroke-width', 1.0)\n",
              "        .attr('stroke', 'black');\n",
              "  }\n",
              "\n",
              "  // Draw the edges.\n",
              "  display_edges(options, graph, tree_struct);\n",
              "\n",
              "  // Draw the nodes.\n",
              "  display_nodes(options, graph, tree_struct);\n",
              "}\n",
              "\n",
              "/**\n",
              " * Draw the nodes of the tree.\n",
              " * @param {!options} options Dictionary of configurations.\n",
              " * @param {!graph} graph D3 search handle containing the graph.\n",
              " * @param {!tree_struct} tree_struct Structure of the tree (node placement,\n",
              " *     data, etc.).\n",
              " */\n",
              "function display_nodes(options, graph, tree_struct) {\n",
              "  const nodes = graph.append('g')\n",
              "                    .selectAll('g')\n",
              "                    .data(tree_struct.descendants())\n",
              "                    .join('g')\n",
              "                    .attr('transform', d => `translate(${d.y},${d.x})`);\n",
              "\n",
              "  nodes.append('rect')\n",
              "      .attr('x', 0.5)\n",
              "      .attr('y', 0.5)\n",
              "      .attr('width', options.node_x_size)\n",
              "      .attr('height', options.node_y_size)\n",
              "      .attr('stroke', 'lightgrey')\n",
              "      .attr('stroke-width', 1)\n",
              "      .attr('fill', 'white')\n",
              "      .attr('y', -options.node_y_size / 2);\n",
              "\n",
              "  // Brackets on the right of condition nodes without children.\n",
              "  non_leaf_node_without_children =\n",
              "      nodes.filter(node => node.data.condition != null && node.children == null)\n",
              "          .append('g')\n",
              "          .attr('transform', `translate(${options.node_x_size},0)`);\n",
              "\n",
              "  non_leaf_node_without_children.append('path')\n",
              "      .attr('d', 'M0,0 C 10,0 0,10 10,10')\n",
              "      .attr('fill', 'none')\n",
              "      .attr('stroke-width', 1.0)\n",
              "      .attr('stroke', '#F00');\n",
              "\n",
              "  non_leaf_node_without_children.append('path')\n",
              "      .attr('d', 'M0,0 C 10,0 0,-10 10,-10')\n",
              "      .attr('fill', 'none')\n",
              "      .attr('stroke-width', 1.0)\n",
              "      .attr('stroke', '#0F0');\n",
              "\n",
              "  const node_content = nodes.append('g').attr(\n",
              "      'transform',\n",
              "      `translate(0,${options.node_padding - options.node_y_size / 2})`);\n",
              "\n",
              "  node_content.append(node => create_node_element(options, node));\n",
              "}\n",
              "\n",
              "/**\n",
              " * Creates the D3 content for a single node.\n",
              " * @param {!options} options Dictionary of configurations.\n",
              " * @param {!node} node Node to draw.\n",
              " * @return {!d3} D3 content.\n",
              " */\n",
              "function create_node_element(options, node) {\n",
              "  // Output accumulator.\n",
              "  let output = {\n",
              "    // Content to draw.\n",
              "    content: d3.create('svg:g'),\n",
              "    // Vertical offset to the next element to draw.\n",
              "    vertical_offset: 0\n",
              "  };\n",
              "\n",
              "  // Conditions.\n",
              "  if (node.data.condition != null) {\n",
              "    display_condition(options, node.data.condition, output);\n",
              "  }\n",
              "\n",
              "  // Values.\n",
              "  if (node.data.value != null) {\n",
              "    display_value(options, node.data.value, output);\n",
              "  }\n",
              "\n",
              "  // Explanations.\n",
              "  if (node.data.explanation != null) {\n",
              "    display_explanation(options, node.data.explanation, output);\n",
              "  }\n",
              "\n",
              "  return output.content.node();\n",
              "}\n",
              "\n",
              "\n",
              "/**\n",
              " * Adds a single line of text inside of a node.\n",
              " * @param {!options} options Dictionary of configurations.\n",
              " * @param {string} text Text to display.\n",
              " * @param {!output} output Output display accumulator.\n",
              " */\n",
              "function display_node_text(options, text, output) {\n",
              "  output.content.append('text')\n",
              "      .attr('x', options.node_padding)\n",
              "      .attr('y', output.vertical_offset)\n",
              "      .attr('alignment-baseline', 'hanging')\n",
              "      .text(text);\n",
              "  output.vertical_offset += 10;\n",
              "}\n",
              "\n",
              "/**\n",
              " * Adds a single line of text inside of a node with a tooltip.\n",
              " * @param {!options} options Dictionary of configurations.\n",
              " * @param {string} text Text to display.\n",
              " * @param {string} tooltip Text in the Tooltip.\n",
              " * @param {!output} output Output display accumulator.\n",
              " */\n",
              "function display_node_text_with_tooltip(options, text, tooltip, output) {\n",
              "  const item = output.content.append('text')\n",
              "                   .attr('x', options.node_padding)\n",
              "                   .attr('alignment-baseline', 'hanging')\n",
              "                   .text(text);\n",
              "\n",
              "  add_tooltip(options, item, () => tooltip);\n",
              "  output.vertical_offset += 10;\n",
              "}\n",
              "\n",
              "/**\n",
              " * Adds a tooltip to a dom element.\n",
              " * @param {!options} options Dictionary of configurations.\n",
              " * @param {!dom} target Dom element to equip with a tooltip.\n",
              " * @param {!func} get_content Generates the html content of the tooltip.\n",
              " */\n",
              "function add_tooltip(options, target, get_content) {\n",
              "  function show(d) {\n",
              "    options.tooltip.style('display', 'block');\n",
              "    options.tooltip.html(get_content());\n",
              "  }\n",
              "\n",
              "  function hide(d) {\n",
              "    options.tooltip.style('display', 'none');\n",
              "  }\n",
              "\n",
              "  function move(d) {\n",
              "    options.tooltip.style('display', 'block');\n",
              "    options.tooltip.style('left', (d.pageX + 5) + 'px');\n",
              "    options.tooltip.style('top', d.pageY + 'px');\n",
              "  }\n",
              "\n",
              "  target.on('mouseover', show);\n",
              "  target.on('mouseout', hide);\n",
              "  target.on('mousemove', move);\n",
              "}\n",
              "\n",
              "/**\n",
              " * Adds a condition inside of a node.\n",
              " * @param {!options} options Dictionary of configurations.\n",
              " * @param {!condition} condition Condition to display.\n",
              " * @param {!output} output Output display accumulator.\n",
              " */\n",
              "function display_condition(options, condition, output) {\n",
              "  threshold_format = d3.format('r');\n",
              "\n",
              "  if (condition.type === 'IS_MISSING') {\n",
              "    display_node_text(options, `${condition.attribute} is missing`, output);\n",
              "    return;\n",
              "  }\n",
              "\n",
              "  if (condition.type === 'IS_TRUE') {\n",
              "    display_node_text(options, `${condition.attribute} is true`, output);\n",
              "    return;\n",
              "  }\n",
              "\n",
              "  if (condition.type === 'NUMERICAL_IS_HIGHER_THAN') {\n",
              "    format = d3.format('r');\n",
              "    display_node_text(\n",
              "        options,\n",
              "        `${condition.attribute} >= ${threshold_format(condition.threshold)}`,\n",
              "        output);\n",
              "    return;\n",
              "  }\n",
              "\n",
              "  if (condition.type === 'CATEGORICAL_IS_IN') {\n",
              "    display_node_text_with_tooltip(\n",
              "        options, `${condition.attribute} in [...]`,\n",
              "        `${condition.attribute} in [${condition.mask}]`, output);\n",
              "    return;\n",
              "  }\n",
              "\n",
              "  if (condition.type === 'CATEGORICAL_SET_CONTAINS') {\n",
              "    display_node_text_with_tooltip(\n",
              "        options, `${condition.attribute} intersect [...]`,\n",
              "        `${condition.attribute} intersect [${condition.mask}]`, output);\n",
              "    return;\n",
              "  }\n",
              "\n",
              "  if (condition.type === 'NUMERICAL_SPARSE_OBLIQUE') {\n",
              "    display_node_text_with_tooltip(\n",
              "        options, `Sparse oblique split...`,\n",
              "        `[${condition.attributes}]*[${condition.weights}]>=${\n",
              "            threshold_format(condition.threshold)}`,\n",
              "        output);\n",
              "    return;\n",
              "  }\n",
              "\n",
              "  display_node_text(\n",
              "      options, `Non supported condition ${condition.type}`, output);\n",
              "}\n",
              "\n",
              "/**\n",
              " * Adds a value inside of a node.\n",
              " * @param {!options} options Dictionary of configurations.\n",
              " * @param {!value} value Value to display.\n",
              " * @param {!output} output Output display accumulator.\n",
              " */\n",
              "function display_value(options, value, output) {\n",
              "  if (value.type === 'PROBABILITY') {\n",
              "    const left_margin = 0;\n",
              "    const right_margin = 50;\n",
              "    const plot_width = options.node_x_size - options.node_padding * 2 -\n",
              "        left_margin - right_margin;\n",
              "\n",
              "    let cusum = Array.from(d3.cumsum(value.distribution));\n",
              "    cusum.unshift(0);\n",
              "    const distribution_plot = output.content.append('g').attr(\n",
              "        'transform', `translate(0,${output.vertical_offset + 0.5})`);\n",
              "\n",
              "    distribution_plot.selectAll('rect')\n",
              "        .data(value.distribution)\n",
              "        .join('rect')\n",
              "        .attr('height', 10)\n",
              "        .attr(\n",
              "            'x',\n",
              "            (d, i) =>\n",
              "                (cusum[i] * plot_width + left_margin + options.node_padding))\n",
              "        .attr('width', (d, i) => d * plot_width)\n",
              "        .style('fill', (d, i) => d3.schemeSet1[i]);\n",
              "\n",
              "    const num_examples =\n",
              "        output.content.append('g')\n",
              "            .attr('transform', `translate(0,${output.vertical_offset})`)\n",
              "            .append('text')\n",
              "            .attr('x', options.node_x_size - options.node_padding)\n",
              "            .attr('alignment-baseline', 'hanging')\n",
              "            .attr('text-anchor', 'end')\n",
              "            .text(`(${value.num_examples})`);\n",
              "\n",
              "    const distribution_details = d3.create('ul');\n",
              "    distribution_details.selectAll('li')\n",
              "        .data(value.distribution)\n",
              "        .join('li')\n",
              "        .append('span')\n",
              "        .text(\n",
              "            (d, i) =>\n",
              "                'class ' + i + ': ' + d3.format('.3%')(value.distribution[i]));\n",
              "\n",
              "    add_tooltip(options, distribution_plot, () => distribution_details.html());\n",
              "    add_tooltip(options, num_examples, () => 'Number of examples');\n",
              "\n",
              "    output.vertical_offset += 10;\n",
              "    return;\n",
              "  }\n",
              "\n",
              "  if (value.type === 'REGRESSION') {\n",
              "    display_node_text(\n",
              "        options,\n",
              "        'value: ' + d3.format('r')(value.value) + ` (` +\n",
              "            d3.format('.6')(value.num_examples) + `)`,\n",
              "        output);\n",
              "    return;\n",
              "  }\n",
              "\n",
              "  display_node_text(options, `Non supported value ${value.type}`, output);\n",
              "}\n",
              "\n",
              "/**\n",
              " * Adds an explanation inside of a node.\n",
              " * @param {!options} options Dictionary of configurations.\n",
              " * @param {!explanation} explanation Explanation to display.\n",
              " * @param {!output} output Output display accumulator.\n",
              " */\n",
              "function display_explanation(options, explanation, output) {\n",
              "  // Margin before the explanation.\n",
              "  output.vertical_offset += 10;\n",
              "\n",
              "  display_node_text(\n",
              "      options, `Non supported explanation ${explanation.type}`, output);\n",
              "}\n",
              "\n",
              "\n",
              "/**\n",
              " * Draw the edges of the tree.\n",
              " * @param {!options} options Dictionary of configurations.\n",
              " * @param {!graph} graph D3 search handle containing the graph.\n",
              " * @param {!tree_struct} tree_struct Structure of the tree (node placement,\n",
              " *     data, etc.).\n",
              " */\n",
              "function display_edges(options, graph, tree_struct) {\n",
              "  // Draw an edge between a parent and a child node with a bezier.\n",
              "  function draw_single_edge(d) {\n",
              "    return 'M' + (d.source.y + options.node_x_size) + ',' + d.source.x + ' C' +\n",
              "        (d.source.y + options.node_x_size + options.edge_rounding) + ',' +\n",
              "        d.source.x + ' ' + (d.target.y - options.edge_rounding) + ',' +\n",
              "        d.target.x + ' ' + d.target.y + ',' + d.target.x;\n",
              "  }\n",
              "\n",
              "  graph.append('g')\n",
              "      .attr('fill', 'none')\n",
              "      .attr('stroke-width', 1.2)\n",
              "      .selectAll('path')\n",
              "      .data(tree_struct.links())\n",
              "      .join('path')\n",
              "      .attr('d', draw_single_edge)\n",
              "      .attr(\n",
              "          'stroke', d => (d.target === d.source.children[0]) ? '#0F0' : '#F00');\n",
              "}\n",
              "\n",
              "display_tree({\"margin\": 10, \"node_x_size\": 160, \"node_y_size\": 28, \"node_x_offset\": 180, \"node_y_offset\": 33, \"font_size\": 10, \"edge_rounding\": 20, \"node_padding\": 2, \"show_plot_bounding_box\": false}, {\"value\": {\"type\": \"REGRESSION\", \"value\": 187.6591796875, \"num_examples\": 534.0, \"standard_deviation\": 147.86605672163986}, \"condition\": {\"type\": \"NUMERICAL_IS_HIGHER_THAN\", \"attribute\": \"co_envcity\", \"threshold\": 7.7447662353515625}, \"children\": [{\"value\": {\"type\": \"REGRESSION\", \"value\": 220.7654266357422, \"num_examples\": 405.0, \"standard_deviation\": 132.90173401361488}, \"condition\": {\"type\": \"NUMERICAL_IS_HIGHER_THAN\", \"attribute\": \"temperatura_envcity\", \"threshold\": 14.684344291687012}, \"children\": [{\"value\": {\"type\": \"REGRESSION\", \"value\": 212.68096923828125, \"num_examples\": 373.0, \"standard_deviation\": 125.18210900585706}, \"condition\": {\"type\": \"NUMERICAL_IS_HIGHER_THAN\", \"attribute\": \"co_envcity\", \"threshold\": 3158.076416015625}, \"children\": [{\"value\": {\"type\": \"REGRESSION\", \"value\": 154.68084716796875, \"num_examples\": 47.0, \"standard_deviation\": 68.13163303893639}, \"condition\": {\"type\": \"NUMERICAL_IS_HIGHER_THAN\", \"attribute\": \"umidade_envcity\", \"threshold\": 92.66378784179688}}, {\"value\": {\"type\": \"REGRESSION\", \"value\": 221.04293823242188, \"num_examples\": 326.0, \"standard_deviation\": 129.25038000885158}, \"condition\": {\"type\": \"NUMERICAL_IS_HIGHER_THAN\", \"attribute\": \"co_envcity\", \"threshold\": 710.1580200195312}}]}, {\"value\": {\"type\": \"REGRESSION\", \"value\": 315.0, \"num_examples\": 32.0, \"standard_deviation\": 176.75901674313533}, \"condition\": {\"type\": \"NUMERICAL_IS_HIGHER_THAN\", \"attribute\": \"co_envcity\", \"threshold\": 1730.65625}, \"children\": [{\"value\": {\"type\": \"REGRESSION\", \"value\": 534.2857055664062, \"num_examples\": 7.0, \"standard_deviation\": 155.27460861851387}}, {\"value\": {\"type\": \"REGRESSION\", \"value\": 253.60000610351562, \"num_examples\": 25.0, \"standard_deviation\": 126.51893138973314}, \"condition\": {\"type\": \"NUMERICAL_IS_HIGHER_THAN\", \"attribute\": \"temperatura_envcity\", \"threshold\": 14.236148834228516}}]}]}, {\"value\": {\"type\": \"REGRESSION\", \"value\": 83.72093200683594, \"num_examples\": 129.0, \"standard_deviation\": 144.26004602714787}, \"condition\": {\"type\": \"NUMERICAL_IS_HIGHER_THAN\", \"attribute\": \"temperatura_envcity\", \"threshold\": 19.611995697021484}, \"children\": [{\"value\": {\"type\": \"REGRESSION\", \"value\": 133.559326171875, \"num_examples\": 59.0, \"standard_deviation\": 156.96013433044675}, \"condition\": {\"type\": \"NUMERICAL_IS_HIGHER_THAN\", \"attribute\": \"co_envcity\", \"threshold\": -163.51260375976562}, \"children\": [{\"value\": {\"type\": \"REGRESSION\", \"value\": 164.1666717529297, \"num_examples\": 48.0, \"standard_deviation\": 158.92652040766794}, \"condition\": {\"type\": \"NUMERICAL_IS_HIGHER_THAN\", \"attribute\": \"temperatura_envcity\", \"threshold\": 20.775081634521484}}, {\"value\": {\"type\": \"REGRESSION\", \"value\": 0.0, \"num_examples\": 11.0, \"standard_deviation\": 0.0}}]}, {\"value\": {\"type\": \"REGRESSION\", \"value\": 41.71428680419922, \"num_examples\": 70.0, \"standard_deviation\": 117.1686382779896}, \"condition\": {\"type\": \"NUMERICAL_IS_HIGHER_THAN\", \"attribute\": \"temperatura_envcity\", \"threshold\": 13.91044807434082}, \"children\": [{\"value\": {\"type\": \"REGRESSION\", \"value\": 18.10344886779785, \"num_examples\": 58.0, \"standard_deviation\": 46.25480018153285}, \"condition\": {\"type\": \"NUMERICAL_IS_HIGHER_THAN\", \"attribute\": \"umidade_envcity\", \"threshold\": 76.17340850830078}}, {\"value\": {\"type\": \"REGRESSION\", \"value\": 155.8333282470703, \"num_examples\": 12.0, \"standard_deviation\": 232.43129211781178}, \"condition\": {\"type\": \"NUMERICAL_IS_HIGHER_THAN\", \"attribute\": \"umidade_envcity\", \"threshold\": 89.56635284423828}}]}]}]}, \"#tree_plot_ac626a272aff4af781336df3252e0837\")\n",
              "</script>\n"
            ]
          },
          "metadata": {},
          "execution_count": 10
        }
      ]
    }
  ]
}